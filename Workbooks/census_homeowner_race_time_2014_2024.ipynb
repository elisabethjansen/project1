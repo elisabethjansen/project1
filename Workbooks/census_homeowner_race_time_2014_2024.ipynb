{
 "cells": [
  {
   "cell_type": "code",
   "execution_count": 1,
   "id": "55bc60af-8f48-4c69-b1b3-844e3b952d4c",
   "metadata": {},
   "outputs": [],
   "source": [
    "from pathlib import Path\n",
    "import pandas as pd\n",
    "import scipy.stats as stats\n",
    "import numpy as np\n",
    "import seaborn as sns\n",
    "import matplotlib.pyplot as plt\n",
    "import statsmodels.api as sm"
   ]
  },
  {
   "cell_type": "code",
   "execution_count": 2,
   "id": "6b3027db-b995-46fd-9bfb-864287b1d705",
   "metadata": {},
   "outputs": [
    {
     "data": {
      "text/html": [
       "<div>\n",
       "<style scoped>\n",
       "    .dataframe tbody tr th:only-of-type {\n",
       "        vertical-align: middle;\n",
       "    }\n",
       "\n",
       "    .dataframe tbody tr th {\n",
       "        vertical-align: top;\n",
       "    }\n",
       "\n",
       "    .dataframe thead th {\n",
       "        text-align: right;\n",
       "    }\n",
       "</style>\n",
       "<table border=\"1\" class=\"dataframe\">\n",
       "  <thead>\n",
       "    <tr style=\"text-align: right;\">\n",
       "      <th></th>\n",
       "      <th>Owner_Occupied_Units</th>\n",
       "      <th>Owner_White_alone</th>\n",
       "      <th>Owner_Black_African_American_alone</th>\n",
       "      <th>Owner_American_Indian_Alaska_Native_alone</th>\n",
       "      <th>Owner_Asian_alone</th>\n",
       "      <th>Owner_Native_Hawaiian_Other_Pacific_Islander_alone</th>\n",
       "      <th>Owner_Some_other_race_alone</th>\n",
       "      <th>Owner_Two_or_more_races</th>\n",
       "      <th>Owner_White_no_Hispanic_or_Latino</th>\n",
       "      <th>Owner_Hispanic_Latino</th>\n",
       "      <th>...</th>\n",
       "      <th>Black_African_American</th>\n",
       "      <th>American_Indian_Alaska_Native</th>\n",
       "      <th>Asian</th>\n",
       "      <th>Native_Hawaiian_Other_Pacific_Islander</th>\n",
       "      <th>Other_Race</th>\n",
       "      <th>Two_More_Races</th>\n",
       "      <th>Count_Inds_Income_Past_12_Mos_&lt;_Pov_Level</th>\n",
       "      <th>state</th>\n",
       "      <th>Zip_code</th>\n",
       "      <th>year</th>\n",
       "    </tr>\n",
       "  </thead>\n",
       "  <tbody>\n",
       "    <tr>\n",
       "      <th>0</th>\n",
       "      <td>2627.0</td>\n",
       "      <td>2536.0</td>\n",
       "      <td>0.0</td>\n",
       "      <td>0.0</td>\n",
       "      <td>0.0</td>\n",
       "      <td>0.0</td>\n",
       "      <td>45.0</td>\n",
       "      <td>46.0</td>\n",
       "      <td>2477.0</td>\n",
       "      <td>104.0</td>\n",
       "      <td>...</td>\n",
       "      <td>0.0</td>\n",
       "      <td>0.0</td>\n",
       "      <td>0.0</td>\n",
       "      <td>0.0</td>\n",
       "      <td>45.0</td>\n",
       "      <td>46.0</td>\n",
       "      <td>145.0</td>\n",
       "      <td>25.0</td>\n",
       "      <td>2338</td>\n",
       "      <td>2014</td>\n",
       "    </tr>\n",
       "    <tr>\n",
       "      <th>1</th>\n",
       "      <td>3864.0</td>\n",
       "      <td>3760.0</td>\n",
       "      <td>18.0</td>\n",
       "      <td>0.0</td>\n",
       "      <td>62.0</td>\n",
       "      <td>0.0</td>\n",
       "      <td>0.0</td>\n",
       "      <td>24.0</td>\n",
       "      <td>3728.0</td>\n",
       "      <td>32.0</td>\n",
       "      <td>...</td>\n",
       "      <td>18.0</td>\n",
       "      <td>0.0</td>\n",
       "      <td>62.0</td>\n",
       "      <td>0.0</td>\n",
       "      <td>0.0</td>\n",
       "      <td>69.0</td>\n",
       "      <td>602.0</td>\n",
       "      <td>25.0</td>\n",
       "      <td>2339</td>\n",
       "      <td>2014</td>\n",
       "    </tr>\n",
       "    <tr>\n",
       "      <th>2</th>\n",
       "      <td>3040.0</td>\n",
       "      <td>2876.0</td>\n",
       "      <td>60.0</td>\n",
       "      <td>19.0</td>\n",
       "      <td>7.0</td>\n",
       "      <td>0.0</td>\n",
       "      <td>10.0</td>\n",
       "      <td>68.0</td>\n",
       "      <td>2812.0</td>\n",
       "      <td>74.0</td>\n",
       "      <td>...</td>\n",
       "      <td>60.0</td>\n",
       "      <td>19.0</td>\n",
       "      <td>7.0</td>\n",
       "      <td>0.0</td>\n",
       "      <td>10.0</td>\n",
       "      <td>68.0</td>\n",
       "      <td>391.0</td>\n",
       "      <td>25.0</td>\n",
       "      <td>2341</td>\n",
       "      <td>2014</td>\n",
       "    </tr>\n",
       "    <tr>\n",
       "      <th>3</th>\n",
       "      <td>3419.0</td>\n",
       "      <td>3196.0</td>\n",
       "      <td>119.0</td>\n",
       "      <td>0.0</td>\n",
       "      <td>76.0</td>\n",
       "      <td>0.0</td>\n",
       "      <td>28.0</td>\n",
       "      <td>0.0</td>\n",
       "      <td>2991.0</td>\n",
       "      <td>215.0</td>\n",
       "      <td>...</td>\n",
       "      <td>255.0</td>\n",
       "      <td>0.0</td>\n",
       "      <td>92.0</td>\n",
       "      <td>0.0</td>\n",
       "      <td>37.0</td>\n",
       "      <td>28.0</td>\n",
       "      <td>889.0</td>\n",
       "      <td>25.0</td>\n",
       "      <td>2343</td>\n",
       "      <td>2014</td>\n",
       "    </tr>\n",
       "    <tr>\n",
       "      <th>4</th>\n",
       "      <td>6470.0</td>\n",
       "      <td>6209.0</td>\n",
       "      <td>124.0</td>\n",
       "      <td>12.0</td>\n",
       "      <td>89.0</td>\n",
       "      <td>0.0</td>\n",
       "      <td>11.0</td>\n",
       "      <td>25.0</td>\n",
       "      <td>6148.0</td>\n",
       "      <td>73.0</td>\n",
       "      <td>...</td>\n",
       "      <td>153.0</td>\n",
       "      <td>12.0</td>\n",
       "      <td>89.0</td>\n",
       "      <td>0.0</td>\n",
       "      <td>36.0</td>\n",
       "      <td>73.0</td>\n",
       "      <td>1863.0</td>\n",
       "      <td>25.0</td>\n",
       "      <td>2346</td>\n",
       "      <td>2014</td>\n",
       "    </tr>\n",
       "  </tbody>\n",
       "</table>\n",
       "<p>5 rows × 27 columns</p>\n",
       "</div>"
      ],
      "text/plain": [
       "   Owner_Occupied_Units  Owner_White_alone  \\\n",
       "0                2627.0             2536.0   \n",
       "1                3864.0             3760.0   \n",
       "2                3040.0             2876.0   \n",
       "3                3419.0             3196.0   \n",
       "4                6470.0             6209.0   \n",
       "\n",
       "   Owner_Black_African_American_alone  \\\n",
       "0                                 0.0   \n",
       "1                                18.0   \n",
       "2                                60.0   \n",
       "3                               119.0   \n",
       "4                               124.0   \n",
       "\n",
       "   Owner_American_Indian_Alaska_Native_alone  Owner_Asian_alone  \\\n",
       "0                                        0.0                0.0   \n",
       "1                                        0.0               62.0   \n",
       "2                                       19.0                7.0   \n",
       "3                                        0.0               76.0   \n",
       "4                                       12.0               89.0   \n",
       "\n",
       "   Owner_Native_Hawaiian_Other_Pacific_Islander_alone  \\\n",
       "0                                                0.0    \n",
       "1                                                0.0    \n",
       "2                                                0.0    \n",
       "3                                                0.0    \n",
       "4                                                0.0    \n",
       "\n",
       "   Owner_Some_other_race_alone  Owner_Two_or_more_races  \\\n",
       "0                         45.0                     46.0   \n",
       "1                          0.0                     24.0   \n",
       "2                         10.0                     68.0   \n",
       "3                         28.0                      0.0   \n",
       "4                         11.0                     25.0   \n",
       "\n",
       "   Owner_White_no_Hispanic_or_Latino  Owner_Hispanic_Latino  ...  \\\n",
       "0                             2477.0                  104.0  ...   \n",
       "1                             3728.0                   32.0  ...   \n",
       "2                             2812.0                   74.0  ...   \n",
       "3                             2991.0                  215.0  ...   \n",
       "4                             6148.0                   73.0  ...   \n",
       "\n",
       "   Black_African_American  American_Indian_Alaska_Native  Asian  \\\n",
       "0                     0.0                            0.0    0.0   \n",
       "1                    18.0                            0.0   62.0   \n",
       "2                    60.0                           19.0    7.0   \n",
       "3                   255.0                            0.0   92.0   \n",
       "4                   153.0                           12.0   89.0   \n",
       "\n",
       "   Native_Hawaiian_Other_Pacific_Islander  Other_Race  Two_More_Races  \\\n",
       "0                                     0.0        45.0            46.0   \n",
       "1                                     0.0         0.0            69.0   \n",
       "2                                     0.0        10.0            68.0   \n",
       "3                                     0.0        37.0            28.0   \n",
       "4                                     0.0        36.0            73.0   \n",
       "\n",
       "   Count_Inds_Income_Past_12_Mos_<_Pov_Level  state  Zip_code  year  \n",
       "0                                      145.0   25.0      2338  2014  \n",
       "1                                      602.0   25.0      2339  2014  \n",
       "2                                      391.0   25.0      2341  2014  \n",
       "3                                      889.0   25.0      2343  2014  \n",
       "4                                     1863.0   25.0      2346  2014  \n",
       "\n",
       "[5 rows x 27 columns]"
      ]
     },
     "execution_count": 2,
     "metadata": {},
     "output_type": "execute_result"
    }
   ],
   "source": [
    "# Create a file path\n",
    "census_data = pd.read_csv(\"Resources/census_data_2014_2022.csv\")\n",
    "\n",
    "# Read in the data. \n",
    "census_data.head()"
   ]
  },
  {
   "cell_type": "code",
   "execution_count": 3,
   "id": "3c90d7e5-7c30-4c25-8f30-38993d5d241a",
   "metadata": {},
   "outputs": [
    {
     "data": {
      "text/plain": [
       "year\n",
       "2014    73.299406\n",
       "2019    73.357364\n",
       "2020    73.775526\n",
       "2021    74.226629\n",
       "2022    74.465813\n",
       "Name: owner_occupancy_rate, dtype: float64"
      ]
     },
     "execution_count": 3,
     "metadata": {},
     "output_type": "execute_result"
    }
   ],
   "source": [
    "# Householder race and ownership over time\n",
    "# Compare trends over time: \n",
    "# Calculate owner-occupancy rate\n",
    "census_data['owner_occupancy_rate'] = (census_data['Owner_Occupied_Units'] / census_data['Total_Occupied_Units']) * 100\n",
    "\n",
    "# Group by year and calculate the mean owner-occupancy rate for each year\n",
    "owner_occupancy_by_year = census_data.groupby('year')['owner_occupancy_rate'].mean()\n",
    "owner_occupancy_by_year\n"
   ]
  },
  {
   "cell_type": "code",
   "execution_count": 4,
   "id": "fff6687c-15cd-478a-a64f-0569f618c7c9",
   "metadata": {},
   "outputs": [
    {
     "data": {
      "text/plain": [
       "year\n",
       "2014    88.319796\n",
       "2019    87.699679\n",
       "2020    86.637880\n",
       "2021    85.557543\n",
       "2022    84.310066\n",
       "Name: percent_white_homeowners, dtype: float64"
      ]
     },
     "execution_count": 4,
     "metadata": {},
     "output_type": "execute_result"
    }
   ],
   "source": [
    "# Calculate the percentage of White householders who are homeowners\n",
    "census_data['percent_white_homeowners'] = (census_data['Owner_White_alone'] / census_data['Owner_Occupied_Units']) * 100\n",
    "\n",
    "# Group by year and calculate the mean percentage for each year\n",
    "percent_white_homeowners_by_year = census_data.groupby('year')['percent_white_homeowners'].mean()\n",
    "percent_white_homeowners_by_year\n"
   ]
  },
  {
   "cell_type": "code",
   "execution_count": 5,
   "id": "75690a19-6e06-4476-8190-a6726ccf6568",
   "metadata": {},
   "outputs": [
    {
     "data": {
      "text/plain": [
       "year\n",
       "2014    5.857198\n",
       "2019    5.904432\n",
       "2020    5.831772\n",
       "2021    5.759192\n",
       "2022    5.757761\n",
       "Name: percent_black_homeowners, dtype: float64"
      ]
     },
     "execution_count": 5,
     "metadata": {},
     "output_type": "execute_result"
    }
   ],
   "source": [
    "# Calculate the percentage of black householders who are homeowners\n",
    "census_data['percent_black_homeowners'] = (census_data['Owner_Black_African_American_alone'] / census_data['Owner_Occupied_Units']) * 100\n",
    "\n",
    "# Group by year and calculate the mean percentage for each year\n",
    "percent_black_homeowners_by_year = census_data.groupby('year')['percent_black_homeowners'].mean()\n",
    "percent_black_homeowners_by_year\n"
   ]
  },
  {
   "cell_type": "code",
   "execution_count": 6,
   "id": "a883b6fd-e177-439f-8b2b-8aac287cf499",
   "metadata": {},
   "outputs": [
    {
     "data": {
      "text/plain": [
       "year\n",
       "2014    1.673909\n",
       "2019    1.905514\n",
       "2020    1.983701\n",
       "2021    2.017108\n",
       "2022    2.071310\n",
       "Name: percent_Asian_homeowners, dtype: float64"
      ]
     },
     "execution_count": 6,
     "metadata": {},
     "output_type": "execute_result"
    }
   ],
   "source": [
    "# Calculate the percentage of Am Indian Alaskan Native householders who are homeowners\n",
    "census_data['percent_Asian_homeowners'] = (census_data['Owner_Asian_alone'] / census_data['Owner_Occupied_Units']) * 100\n",
    "\n",
    "# Group by year and calculate the mean percentage for each year\n",
    "percent_Asian_homeowners_by_year = census_data.groupby('year')['percent_Asian_homeowners'].mean()\n",
    "percent_Asian_homeowners_by_year"
   ]
  },
  {
   "cell_type": "code",
   "execution_count": 7,
   "id": "f7aa630b-ea79-4d14-b836-4f3aa283da4c",
   "metadata": {},
   "outputs": [
    {
     "data": {
      "text/plain": [
       "year\n",
       "2014    0.057983\n",
       "2019    0.061568\n",
       "2020    0.064743\n",
       "2021    0.069540\n",
       "2022    0.071647\n",
       "Name: percent_Hawaiian_homeowners, dtype: float64"
      ]
     },
     "execution_count": 7,
     "metadata": {},
     "output_type": "execute_result"
    }
   ],
   "source": [
    "# Calculate the percentage of Am Indian Alaskan Native householders who are homeowners\n",
    "census_data['percent_Hawaiian_homeowners'] = (census_data['Owner_Native_Hawaiian_Other_Pacific_Islander_alone'] / census_data['Owner_Occupied_Units']) * 100\n",
    "\n",
    "# Group by year and calculate the mean percentage for each year\n",
    "percent_Hawaiian_homeowners_by_year = census_data.groupby('year')['percent_Hawaiian_homeowners'].mean()\n",
    "percent_Hawaiian_homeowners_by_year"
   ]
  },
  {
   "cell_type": "code",
   "execution_count": 8,
   "id": "daba2f8f-7519-46b6-99b7-7e57b6259277",
   "metadata": {},
   "outputs": [
    {
     "data": {
      "text/plain": [
       "year\n",
       "2014    1.557623\n",
       "2019    1.592303\n",
       "2020    1.584339\n",
       "2021    1.562799\n",
       "2022    1.568337\n",
       "Name: percent_Am_Indian_homeowners, dtype: float64"
      ]
     },
     "execution_count": 8,
     "metadata": {},
     "output_type": "execute_result"
    }
   ],
   "source": [
    "# Calculate the percentage of Am Indian Alaskan Native householders who are homeowners\n",
    "census_data['percent_Am_Indian_homeowners'] = (census_data['Owner_American_Indian_Alaska_Native_alone'] / census_data['Owner_Occupied_Units']) * 100\n",
    "\n",
    "# Group by year and calculate the mean percentage for each year\n",
    "percent_Am_Indian_homeowners_by_year = census_data.groupby('year')['percent_Am_Indian_homeowners'].mean()\n",
    "percent_Am_Indian_homeowners_by_year"
   ]
  },
  {
   "cell_type": "code",
   "execution_count": 9,
   "id": "40612ba2-2f74-4df1-8cf3-dcbc8a8aa551",
   "metadata": {},
   "outputs": [
    {
     "data": {
      "text/plain": [
       "year\n",
       "2014    1.284614\n",
       "2019    1.431407\n",
       "2020    1.589310\n",
       "2021    1.797092\n",
       "2022    2.021079\n",
       "Name: percent_Some_other_race_alone, dtype: float64"
      ]
     },
     "execution_count": 9,
     "metadata": {},
     "output_type": "execute_result"
    }
   ],
   "source": [
    "# Calculate the percentage of Am Indian Alaskan Native householders who are homeowners\n",
    "census_data['percent_Some_other_race_alone'] = (census_data['Owner_Some_other_race_alone'] / census_data['Owner_Occupied_Units']) * 100\n",
    "\n",
    "# Group by year and calculate the mean percentage for each year\n",
    "percent_Other_homeowners_by_year = census_data.groupby('year')['percent_Some_other_race_alone'].mean()\n",
    "percent_Other_homeowners_by_year"
   ]
  },
  {
   "cell_type": "code",
   "execution_count": 10,
   "id": "b6f45cbe-79d3-47b4-919f-f3ae54218280",
   "metadata": {},
   "outputs": [
    {
     "data": {
      "text/plain": [
       "year\n",
       "2014    1.248877\n",
       "2019    1.405097\n",
       "2020    2.308255\n",
       "2021    3.236726\n",
       "2022    4.199799\n",
       "Name: percent_Two_or_more_homeowners, dtype: float64"
      ]
     },
     "execution_count": 10,
     "metadata": {},
     "output_type": "execute_result"
    }
   ],
   "source": [
    "# Calculate the percentage of Am Indian Alaskan Native householders who are homeowners\n",
    "census_data['percent_Two_or_more_homeowners'] = (census_data['Owner_Two_or_more_races'] / census_data['Owner_Occupied_Units']) * 100\n",
    "\n",
    "# Group by year and calculate the mean percentage for each year\n",
    "percent_Two_or_more_homeowners_by_year = census_data.groupby('year')['percent_Two_or_more_homeowners'].mean()\n",
    "percent_Two_or_more_homeowners_by_year"
   ]
  },
  {
   "cell_type": "code",
   "execution_count": 11,
   "id": "b300add7-8e89-4250-94b7-8bbdd0ef79e5",
   "metadata": {},
   "outputs": [
    {
     "data": {
      "text/plain": [
       "year\n",
       "2014    84.111063\n",
       "2019    82.981059\n",
       "2020    82.405336\n",
       "2021    81.906558\n",
       "2022    81.261772\n",
       "Name: percent_White_no_Hisp_homeowners, dtype: float64"
      ]
     },
     "execution_count": 11,
     "metadata": {},
     "output_type": "execute_result"
    }
   ],
   "source": [
    "# Calculate the percentage of Am Indian Alaskan Native householders who are homeowners\n",
    "census_data['percent_White_no_Hisp_homeowners'] = (census_data['Owner_White_no_Hispanic_or_Latino'] / census_data['Owner_Occupied_Units']) * 100\n",
    "\n",
    "# Group by year and calculate the mean percentage for each year\n",
    "percent_White_no_Hisp_homeowners_by_year = census_data.groupby('year')['percent_White_no_Hisp_homeowners'].mean()\n",
    "percent_White_no_Hisp_homeowners_by_year"
   ]
  },
  {
   "cell_type": "code",
   "execution_count": 12,
   "id": "4194bba8-da6d-4eb5-aae1-63d13385d11b",
   "metadata": {},
   "outputs": [
    {
     "data": {
      "text/plain": [
       "year\n",
       "2014    5.830313\n",
       "2019    6.521556\n",
       "2020    6.725891\n",
       "2021    6.902655\n",
       "2022    7.105219\n",
       "Name: percent_Hisp_homeowners, dtype: float64"
      ]
     },
     "execution_count": 12,
     "metadata": {},
     "output_type": "execute_result"
    }
   ],
   "source": [
    "# Calculate the percentage of Am Indian Alaskan Native householders who are homeowners\n",
    "census_data['percent_Hisp_homeowners'] = (census_data['Owner_Hispanic_Latino'] / census_data['Owner_Occupied_Units']) * 100\n",
    "\n",
    "# Group by year and calculate the mean percentage for each year\n",
    "percent_Hisp_homeowners_by_year = census_data.groupby('year')['percent_Hisp_homeowners'].mean()\n",
    "percent_Hisp_homeowners_by_year"
   ]
  },
  {
   "cell_type": "code",
   "execution_count": 13,
   "id": "984780c2-5916-4c81-91e2-7929342c6b94",
   "metadata": {},
   "outputs": [],
   "source": [
    "# create df\n",
    "summary_df = pd.DataFrame({\n",
    "    'Percent White Homeowners': percent_white_homeowners_by_year,\n",
    "    'Percent Black Homeowners': percent_black_homeowners_by_year,\n",
    "    'Percent Am Ind/Al Nat Homeowners': percent_Am_Indian_homeowners_by_year,\n",
    "    'Percent Asian Homeowners': percent_Asian_homeowners_by_year,\n",
    "    'Percent Hawaiian/Pac Isl Homeowners': percent_Hawaiian_homeowners_by_year,\n",
    "    'Percent Other Homeowners': percent_Other_homeowners_by_year,\n",
    "    'Percent Two or More Homeowners': percent_Two_or_more_homeowners_by_year,\n",
    "    'Percent White/Non Hispanic Homeowners': percent_White_no_Hisp_homeowners_by_year,\n",
    "    'Percent Hispanic Homeowners': percent_Hisp_homeowners_by_year\n",
    "})\n",
    "\n",
    "# Optional: Reset index if you want 'Year' as a column for easier plotting\n",
    "summary_df.reset_index(inplace=True)\n",
    "summary_df.rename(columns={'index': 'year'}, inplace=True)\n"
   ]
  },
  {
   "cell_type": "code",
   "execution_count": 14,
   "id": "5bff4d89-6891-4f0f-8e5b-78b76adf3891",
   "metadata": {},
   "outputs": [
    {
     "name": "stderr",
     "output_type": "stream",
     "text": [
      "C:\\Users\\sohof\\AppData\\Local\\Temp\\ipykernel_15032\\2921904196.py:76: FutureWarning: Series.__getitem__ treating keys as positions is deprecated. In a future version, integer keys will always be treated as labels (consistent with DataFrame behavior). To access a value by position, use `ser.iloc[pos]`\n",
      "  slope = model.params[1]  # The slope coefficient\n",
      "C:\\Users\\sohof\\AppData\\Local\\Temp\\ipykernel_15032\\2921904196.py:77: FutureWarning: Series.__getitem__ treating keys as positions is deprecated. In a future version, integer keys will always be treated as labels (consistent with DataFrame behavior). To access a value by position, use `ser.iloc[pos]`\n",
      "  p_value = model.pvalues[1]  # The p-value for the slope\n",
      "C:\\Users\\sohof\\AppData\\Local\\Temp\\ipykernel_15032\\2921904196.py:76: FutureWarning: Series.__getitem__ treating keys as positions is deprecated. In a future version, integer keys will always be treated as labels (consistent with DataFrame behavior). To access a value by position, use `ser.iloc[pos]`\n",
      "  slope = model.params[1]  # The slope coefficient\n",
      "C:\\Users\\sohof\\AppData\\Local\\Temp\\ipykernel_15032\\2921904196.py:77: FutureWarning: Series.__getitem__ treating keys as positions is deprecated. In a future version, integer keys will always be treated as labels (consistent with DataFrame behavior). To access a value by position, use `ser.iloc[pos]`\n",
      "  p_value = model.pvalues[1]  # The p-value for the slope\n",
      "C:\\Users\\sohof\\AppData\\Local\\Temp\\ipykernel_15032\\2921904196.py:76: FutureWarning: Series.__getitem__ treating keys as positions is deprecated. In a future version, integer keys will always be treated as labels (consistent with DataFrame behavior). To access a value by position, use `ser.iloc[pos]`\n",
      "  slope = model.params[1]  # The slope coefficient\n",
      "C:\\Users\\sohof\\AppData\\Local\\Temp\\ipykernel_15032\\2921904196.py:77: FutureWarning: Series.__getitem__ treating keys as positions is deprecated. In a future version, integer keys will always be treated as labels (consistent with DataFrame behavior). To access a value by position, use `ser.iloc[pos]`\n",
      "  p_value = model.pvalues[1]  # The p-value for the slope\n",
      "C:\\Users\\sohof\\AppData\\Local\\Temp\\ipykernel_15032\\2921904196.py:76: FutureWarning: Series.__getitem__ treating keys as positions is deprecated. In a future version, integer keys will always be treated as labels (consistent with DataFrame behavior). To access a value by position, use `ser.iloc[pos]`\n",
      "  slope = model.params[1]  # The slope coefficient\n",
      "C:\\Users\\sohof\\AppData\\Local\\Temp\\ipykernel_15032\\2921904196.py:77: FutureWarning: Series.__getitem__ treating keys as positions is deprecated. In a future version, integer keys will always be treated as labels (consistent with DataFrame behavior). To access a value by position, use `ser.iloc[pos]`\n",
      "  p_value = model.pvalues[1]  # The p-value for the slope\n",
      "C:\\Users\\sohof\\AppData\\Local\\Temp\\ipykernel_15032\\2921904196.py:76: FutureWarning: Series.__getitem__ treating keys as positions is deprecated. In a future version, integer keys will always be treated as labels (consistent with DataFrame behavior). To access a value by position, use `ser.iloc[pos]`\n",
      "  slope = model.params[1]  # The slope coefficient\n",
      "C:\\Users\\sohof\\AppData\\Local\\Temp\\ipykernel_15032\\2921904196.py:77: FutureWarning: Series.__getitem__ treating keys as positions is deprecated. In a future version, integer keys will always be treated as labels (consistent with DataFrame behavior). To access a value by position, use `ser.iloc[pos]`\n",
      "  p_value = model.pvalues[1]  # The p-value for the slope\n",
      "C:\\Users\\sohof\\AppData\\Local\\Temp\\ipykernel_15032\\2921904196.py:76: FutureWarning: Series.__getitem__ treating keys as positions is deprecated. In a future version, integer keys will always be treated as labels (consistent with DataFrame behavior). To access a value by position, use `ser.iloc[pos]`\n",
      "  slope = model.params[1]  # The slope coefficient\n",
      "C:\\Users\\sohof\\AppData\\Local\\Temp\\ipykernel_15032\\2921904196.py:77: FutureWarning: Series.__getitem__ treating keys as positions is deprecated. In a future version, integer keys will always be treated as labels (consistent with DataFrame behavior). To access a value by position, use `ser.iloc[pos]`\n",
      "  p_value = model.pvalues[1]  # The p-value for the slope\n",
      "C:\\Users\\sohof\\AppData\\Local\\Temp\\ipykernel_15032\\2921904196.py:76: FutureWarning: Series.__getitem__ treating keys as positions is deprecated. In a future version, integer keys will always be treated as labels (consistent with DataFrame behavior). To access a value by position, use `ser.iloc[pos]`\n",
      "  slope = model.params[1]  # The slope coefficient\n",
      "C:\\Users\\sohof\\AppData\\Local\\Temp\\ipykernel_15032\\2921904196.py:77: FutureWarning: Series.__getitem__ treating keys as positions is deprecated. In a future version, integer keys will always be treated as labels (consistent with DataFrame behavior). To access a value by position, use `ser.iloc[pos]`\n",
      "  p_value = model.pvalues[1]  # The p-value for the slope\n",
      "C:\\Users\\sohof\\AppData\\Local\\Temp\\ipykernel_15032\\2921904196.py:76: FutureWarning: Series.__getitem__ treating keys as positions is deprecated. In a future version, integer keys will always be treated as labels (consistent with DataFrame behavior). To access a value by position, use `ser.iloc[pos]`\n",
      "  slope = model.params[1]  # The slope coefficient\n",
      "C:\\Users\\sohof\\AppData\\Local\\Temp\\ipykernel_15032\\2921904196.py:77: FutureWarning: Series.__getitem__ treating keys as positions is deprecated. In a future version, integer keys will always be treated as labels (consistent with DataFrame behavior). To access a value by position, use `ser.iloc[pos]`\n",
      "  p_value = model.pvalues[1]  # The p-value for the slope\n",
      "C:\\Users\\sohof\\AppData\\Local\\Temp\\ipykernel_15032\\2921904196.py:76: FutureWarning: Series.__getitem__ treating keys as positions is deprecated. In a future version, integer keys will always be treated as labels (consistent with DataFrame behavior). To access a value by position, use `ser.iloc[pos]`\n",
      "  slope = model.params[1]  # The slope coefficient\n",
      "C:\\Users\\sohof\\AppData\\Local\\Temp\\ipykernel_15032\\2921904196.py:77: FutureWarning: Series.__getitem__ treating keys as positions is deprecated. In a future version, integer keys will always be treated as labels (consistent with DataFrame behavior). To access a value by position, use `ser.iloc[pos]`\n",
      "  p_value = model.pvalues[1]  # The p-value for the slope\n"
     ]
    },
    {
     "name": "stdout",
     "output_type": "stream",
     "text": [
      "Group: Percent White Homeowners\n",
      "  Slope: -0.4490\n",
      "  R-squared: 0.7482\n",
      "  P-value: 0.0583\n",
      "  -> Fail to reject the null hypothesis. There is no significant trend in the homeownership rate for Percent White Homeowners.\n",
      "\n",
      "Group: Percent Black Homeowners\n",
      "  Slope: -0.0125\n",
      "  R-squared: 0.3736\n",
      "  P-value: 0.2734\n",
      "  -> Fail to reject the null hypothesis. There is no significant trend in the homeownership rate for Percent Black Homeowners.\n",
      "\n",
      "Group: Percent Am Ind/Al Nat Homeowners\n",
      "  Slope: 0.0014\n",
      "  R-squared: 0.0863\n",
      "  P-value: 0.6315\n",
      "  -> Fail to reject the null hypothesis. There is no significant trend in the homeownership rate for Percent Am Ind/Al Nat Homeowners.\n",
      "\n",
      "Group: Percent Asian Homeowners\n",
      "  Slope: 0.0498\n",
      "  R-squared: 0.9956\n",
      "  P-value: 0.0001\n",
      "  -> Reject the null hypothesis. There is a significant trend in the homeownership rate for Percent Asian Homeowners.\n",
      "\n",
      "Group: Percent Hawaiian/Pac Isl Homeowners\n",
      "  Slope: 0.0016\n",
      "  R-squared: 0.8325\n",
      "  P-value: 0.0307\n",
      "  -> Reject the null hypothesis. There is a significant trend in the homeownership rate for Percent Hawaiian/Pac Isl Homeowners.\n",
      "\n",
      "Group: Percent Other Homeowners\n",
      "  Slope: 0.0824\n",
      "  R-squared: 0.7732\n",
      "  P-value: 0.0494\n",
      "  -> Reject the null hypothesis. There is a significant trend in the homeownership rate for Percent Other Homeowners.\n",
      "\n",
      "Group: Percent Two or More Homeowners\n",
      "  Slope: 0.3262\n",
      "  R-squared: 0.6626\n",
      "  P-value: 0.0935\n",
      "  -> Fail to reject the null hypothesis. There is no significant trend in the homeownership rate for Percent Two or More Homeowners.\n",
      "\n",
      "Group: Percent White/Non Hispanic Homeowners\n",
      "  Slope: -0.3372\n",
      "  R-squared: 0.9357\n",
      "  P-value: 0.0071\n",
      "  -> Reject the null hypothesis. There is a significant trend in the homeownership rate for Percent White/Non Hispanic Homeowners.\n",
      "\n",
      "Group: Percent Hispanic Homeowners\n",
      "  Slope: 0.1567\n",
      "  R-squared: 0.9920\n",
      "  P-value: 0.0003\n",
      "  -> Reject the null hypothesis. There is a significant trend in the homeownership rate for Percent Hispanic Homeowners.\n",
      "\n"
     ]
    },
    {
     "data": {
      "image/png": "[encoded data removed]",
      "text/plain": [
       "<Figure size 1200x600 with 1 Axes>"
      ]
     },
     "metadata": {},
     "output_type": "display_data"
    }
   ],
   "source": [
    "# visualization - create line graph & set size of plot\n",
    "plt.figure(figsize=(12, 6))\n",
    "\n",
    "# Plot each racial group's homeownership trend\n",
    "plt.plot(summary_df['year'], summary_df['Percent White Homeowners'], label='White Homeowners', marker='o')\n",
    "plt.plot(summary_df['year'], summary_df['Percent Black Homeowners'], label='Black Homeowners', marker='o')\n",
    "plt.plot(summary_df['year'], summary_df['Percent Am Ind/Al Nat Homeowners'], label='Am Ind/Al Nat Homeowners', marker='o')\n",
    "plt.plot(summary_df['year'], summary_df['Percent Asian Homeowners'], label='Asian Homeowners', marker='o')\n",
    "plt.plot(summary_df['year'], summary_df['Percent Hawaiian/Pac Isl Homeowners'], label='Hawaiian/Pac Isl Homeowners', marker='o')\n",
    "plt.plot(summary_df['year'], summary_df['Percent Other Homeowners'], label='Other Homeowners', marker='o')\n",
    "plt.plot(summary_df['year'], summary_df['Percent Two or More Homeowners'], label='Two or More Homeowners', marker='o')\n",
    "plt.plot(summary_df['year'], summary_df['Percent White/Non Hispanic Homeowners'], label='White/Non Hispanic Homeowners', marker='o')\n",
    "plt.plot(summary_df['year'], summary_df['Percent Hispanic Homeowners'], label='Hispanic Homeowners', marker='o')\n",
    "\n",
    "# Set x-axis ticks\n",
    "years = summary_df['year'].unique()  # Extract years from the DataFrame\n",
    "plt.xticks(years, labels=years)  # Set x-axis ticks to show only the years\n",
    "\n",
    "# Add selective data labels; Format to 2 decimal places\n",
    "# for col in summary_df.columns[1:]:\n",
    "#     plt.text(summary_df['year'].iloc[0], summary_df[col].iloc[0], f'{summary_df[col].iloc[0]:.2f}', color='blue', ha='center', va='bottom')\n",
    "#     plt.text(summary_df['year'].iloc[-1], summary_df[col].iloc[-1], f'{summary_df[col].iloc[-1]:.2f}', color='blue', ha='center', va='bottom')\n",
    "\n",
    "\n",
    "# Add data labels; Format to 2 decimal places\n",
    "# for x, y in zip(percent_Other_homeowners_by_year.index, percent_Other_homeowners_by_year.values):\n",
    "#     plt.text(x, y, f'{y:.2f}', color='blue', ha='center', va='bottom') \n",
    "# for x, y in zip(percent_Other_homeowners_by_year.index, percent_white_homeowners_by_year.values):\n",
    "#     plt.text(x, y, f'{y:.2f}', color='blue', ha='center', va='bottom') \n",
    "# for x, y in zip(percent_Other_homeowners_by_year.index, percent_black_homeowners_by_year.values):\n",
    "#     plt.text(x, y, f'{y:.2f}', color='blue', ha='center', va='bottom')\n",
    "# for x, y in zip(percent_Other_homeowners_by_year.index, percent_Asian_homeowners_by_year.values):\n",
    "#     plt.text(x, y, f'{y:.2f}', color='blue', ha='center', va='bottom') \n",
    "# for x, y in zip(percent_Other_homeowners_by_year.index, percent_Two_or_more_homeowners_by_year.values):\n",
    "#     plt.text(x, y, f'{y:.2f}', color='blue', ha='center', va='bottom') \n",
    "# for x, y in zip(percent_Other_homeowners_by_year.index, percent_White_no_Hisp_homeowners_by_year.values):\n",
    "#     plt.text(x, y, f'{y:.2f}', color='blue', ha='center', va='bottom')  \n",
    "# for x, y in zip(percent_Other_homeowners_by_year.index, percent_Hisp_homeowners_by_year.values):\n",
    "#     plt.text(x, y, f'{y:.2f}', color='blue', ha='center', va='bottom') \n",
    "# for x, y in zip(percent_Other_homeowners_by_year.index, percent_Hawaiian_homeowners_by_year.values):\n",
    "#     plt.text(x, y, f'{y:.2f}', color='blue', ha='center', va='bottom') \n",
    "# for x, y in zip(percent_Other_homeowners_by_year.index, percent_Am_Indian_homeowners_by_year.values):\n",
    "#     plt.text(x, y, f'{y:.2f}', color='blue', ha='center', va='bottom') \n",
    "    \n",
    "# Adding titles and labels\n",
    "plt.title('Homeownership Rates by Race Over Time')  # Title of the plot\n",
    "plt.xlabel('Year')  # X-axis label\n",
    "plt.ylabel('Percentage (%)')  # Y-axis label\n",
    "\n",
    "# Display a legend to identify the lines\n",
    "plt.legend()\n",
    "\n",
    "# Optionally, display a grid\n",
    "plt.grid(True)\n",
    "\n",
    "\n",
    "# Assuming summary_df is your DataFrame and has the necessary data\n",
    "# Define the racial groups\n",
    "racial_groups = [\n",
    "    'Percent White Homeowners', 'Percent Black Homeowners', 'Percent Am Ind/Al Nat Homeowners',\n",
    "    'Percent Asian Homeowners', 'Percent Hawaiian/Pac Isl Homeowners', 'Percent Other Homeowners',\n",
    "    'Percent Two or More Homeowners', 'Percent White/Non Hispanic Homeowners', 'Percent Hispanic Homeowners'\n",
    "]\n",
    "\n",
    "# Prepare the independent variable (year)\n",
    "x = summary_df['year']\n",
    "x_with_const = sm.add_constant(x)  # Adds a constant term to the predictor\n",
    "\n",
    "# Initialize a dictionary to store the results\n",
    "results = {}\n",
    "\n",
    "# Loop through each racial group and perform linear regression\n",
    "for group in racial_groups:\n",
    "    y = summary_df[group]\n",
    "    model = sm.OLS(y, x_with_const).fit()\n",
    "    slope = model.params[1]  # The slope coefficient\n",
    "    p_value = model.pvalues[1]  # The p-value for the slope\n",
    "    \n",
    "    results[group] = {\n",
    "        'slope': slope,\n",
    "        'p_value': p_value,\n",
    "        'r_squared': model.rsquared\n",
    "    }\n",
    "\n",
    "# Display the results\n",
    "for group, result in results.items():\n",
    "    slope = result['slope']\n",
    "    p_value = result['p_value']\n",
    "    r_squared = result['r_squared']\n",
    "    print(f\"Group: {group}\")\n",
    "    print(f\"  Slope: {slope:.4f}\")\n",
    "    print(f\"  R-squared: {r_squared:.4f}\")\n",
    "    print(f\"  P-value: {p_value:.4f}\")\n",
    "    if p_value < 0.05:\n",
    "        print(f\"  -> Reject the null hypothesis. There is a significant trend in the homeownership rate for {group}.\")\n",
    "    else:\n",
    "        print(f\"  -> Fail to reject the null hypothesis. There is no significant trend in the homeownership rate for {group}.\")\n",
    "    print()\n",
    "\n",
    "\n",
    "\n",
    "# plt.savefig('homeowner_race_line_chart14_22.png', format='png', dpi=300)\n",
    "\n",
    "# Show the plot\n",
    "plt.show()\n"
   ]
  },
  {
   "cell_type": "code",
   "execution_count": null,
   "id": "1924d704-b5e1-497d-9d28-f71b71c2bda5",
   "metadata": {},
   "outputs": [],
   "source": []
  }
 ],
 "metadata": {
  "kernelspec": {
   "display_name": "Python 3 (ipykernel)",
   "language": "python",
   "name": "python3"
  },
  "language_info": {
   "codemirror_mode": {
    "name": "ipython",
    "version": 3
   },
   "file_extension": ".py",
   "mimetype": "text/x-python",
   "name": "python",
   "nbconvert_exporter": "python",
   "pygments_lexer": "ipython3",
   "version": "3.11.7"
  }
 },
 "nbformat": 4,
 "nbformat_minor": 5
}
