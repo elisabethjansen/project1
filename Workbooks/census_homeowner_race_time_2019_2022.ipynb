{
 "cells": [
  {
   "cell_type": "code",
   "execution_count": 1,
   "id": "55bc60af-8f48-4c69-b1b3-844e3b952d4c",
   "metadata": {},
   "outputs": [],
   "source": [
    "from pathlib import Path\n",
    "import pandas as pd\n",
    "import scipy.stats as stats\n",
    "import numpy as np\n",
    "import matplotlib.pyplot as plt"
   ]
  },
  {
   "cell_type": "code",
   "execution_count": 3,
   "id": "6b3027db-b995-46fd-9bfb-864287b1d705",
   "metadata": {},
   "outputs": [
    {
     "data": {
      "text/html": [
       "<div>\n",
       "<style scoped>\n",
       "    .dataframe tbody tr th:only-of-type {\n",
       "        vertical-align: middle;\n",
       "    }\n",
       "\n",
       "    .dataframe tbody tr th {\n",
       "        vertical-align: top;\n",
       "    }\n",
       "\n",
       "    .dataframe thead th {\n",
       "        text-align: right;\n",
       "    }\n",
       "</style>\n",
       "<table border=\"1\" class=\"dataframe\">\n",
       "  <thead>\n",
       "    <tr style=\"text-align: right;\">\n",
       "      <th></th>\n",
       "      <th>Owner_Occupied_Units</th>\n",
       "      <th>Owner_White_alone</th>\n",
       "      <th>Owner_Black_African_American_alone</th>\n",
       "      <th>Owner_American_Indian_Alaska_Native_alone</th>\n",
       "      <th>Owner_Asian_alone</th>\n",
       "      <th>Owner_Native_Hawaiian_Other_Pacific_Islander_alone</th>\n",
       "      <th>Owner_Some_other_race_alone</th>\n",
       "      <th>Owner_Two_or_more_races</th>\n",
       "      <th>Owner_White_no_Hispanic_or_Latino</th>\n",
       "      <th>Owner_Hispanic_Latino</th>\n",
       "      <th>...</th>\n",
       "      <th>Black_African_American</th>\n",
       "      <th>American_Indian_Alaska_Native</th>\n",
       "      <th>Asian</th>\n",
       "      <th>Native_Hawaiian_Other_Pacific_Islander</th>\n",
       "      <th>Other_Race</th>\n",
       "      <th>Two_More_Races</th>\n",
       "      <th>Count_Inds_Income_Past_12_Mos_&lt;_Pov_Level</th>\n",
       "      <th>state</th>\n",
       "      <th>Zip_code</th>\n",
       "      <th>year</th>\n",
       "    </tr>\n",
       "  </thead>\n",
       "  <tbody>\n",
       "    <tr>\n",
       "      <th>0</th>\n",
       "      <td>3283.0</td>\n",
       "      <td>2604.0</td>\n",
       "      <td>13.0</td>\n",
       "      <td>6.0</td>\n",
       "      <td>0.0</td>\n",
       "      <td>0.0</td>\n",
       "      <td>623.0</td>\n",
       "      <td>37.0</td>\n",
       "      <td>0.0</td>\n",
       "      <td>3283.0</td>\n",
       "      <td>...</td>\n",
       "      <td>27.0</td>\n",
       "      <td>6.0</td>\n",
       "      <td>0.0</td>\n",
       "      <td>0.0</td>\n",
       "      <td>1233.0</td>\n",
       "      <td>63.0</td>\n",
       "      <td>10552.0</td>\n",
       "      <td>72.0</td>\n",
       "      <td>601</td>\n",
       "      <td>2019</td>\n",
       "    </tr>\n",
       "    <tr>\n",
       "      <th>1</th>\n",
       "      <td>9528.0</td>\n",
       "      <td>8298.0</td>\n",
       "      <td>239.0</td>\n",
       "      <td>0.0</td>\n",
       "      <td>0.0</td>\n",
       "      <td>0.0</td>\n",
       "      <td>238.0</td>\n",
       "      <td>753.0</td>\n",
       "      <td>553.0</td>\n",
       "      <td>8975.0</td>\n",
       "      <td>...</td>\n",
       "      <td>341.0</td>\n",
       "      <td>12.0</td>\n",
       "      <td>0.0</td>\n",
       "      <td>0.0</td>\n",
       "      <td>375.0</td>\n",
       "      <td>1124.0</td>\n",
       "      <td>18653.0</td>\n",
       "      <td>72.0</td>\n",
       "      <td>602</td>\n",
       "      <td>2019</td>\n",
       "    </tr>\n",
       "    <tr>\n",
       "      <th>2</th>\n",
       "      <td>11118.0</td>\n",
       "      <td>9141.0</td>\n",
       "      <td>394.0</td>\n",
       "      <td>22.0</td>\n",
       "      <td>26.0</td>\n",
       "      <td>0.0</td>\n",
       "      <td>1381.0</td>\n",
       "      <td>154.0</td>\n",
       "      <td>86.0</td>\n",
       "      <td>10998.0</td>\n",
       "      <td>...</td>\n",
       "      <td>758.0</td>\n",
       "      <td>42.0</td>\n",
       "      <td>47.0</td>\n",
       "      <td>0.0</td>\n",
       "      <td>2710.0</td>\n",
       "      <td>232.0</td>\n",
       "      <td>23691.0</td>\n",
       "      <td>72.0</td>\n",
       "      <td>603</td>\n",
       "      <td>2019</td>\n",
       "    </tr>\n",
       "    <tr>\n",
       "      <th>3</th>\n",
       "      <td>1470.0</td>\n",
       "      <td>717.0</td>\n",
       "      <td>6.0</td>\n",
       "      <td>10.0</td>\n",
       "      <td>0.0</td>\n",
       "      <td>0.0</td>\n",
       "      <td>716.0</td>\n",
       "      <td>21.0</td>\n",
       "      <td>4.0</td>\n",
       "      <td>1466.0</td>\n",
       "      <td>...</td>\n",
       "      <td>6.0</td>\n",
       "      <td>10.0</td>\n",
       "      <td>0.0</td>\n",
       "      <td>0.0</td>\n",
       "      <td>963.0</td>\n",
       "      <td>29.0</td>\n",
       "      <td>4185.0</td>\n",
       "      <td>72.0</td>\n",
       "      <td>606</td>\n",
       "      <td>2019</td>\n",
       "    </tr>\n",
       "    <tr>\n",
       "      <th>4</th>\n",
       "      <td>6758.0</td>\n",
       "      <td>5612.0</td>\n",
       "      <td>127.0</td>\n",
       "      <td>0.0</td>\n",
       "      <td>0.0</td>\n",
       "      <td>0.0</td>\n",
       "      <td>458.0</td>\n",
       "      <td>561.0</td>\n",
       "      <td>244.0</td>\n",
       "      <td>6493.0</td>\n",
       "      <td>...</td>\n",
       "      <td>173.0</td>\n",
       "      <td>0.0</td>\n",
       "      <td>0.0</td>\n",
       "      <td>0.0</td>\n",
       "      <td>643.0</td>\n",
       "      <td>744.0</td>\n",
       "      <td>12204.0</td>\n",
       "      <td>72.0</td>\n",
       "      <td>610</td>\n",
       "      <td>2019</td>\n",
       "    </tr>\n",
       "  </tbody>\n",
       "</table>\n",
       "<p>5 rows × 27 columns</p>\n",
       "</div>"
      ],
      "text/plain": [
       "   Owner_Occupied_Units  Owner_White_alone  \\\n",
       "0                3283.0             2604.0   \n",
       "1                9528.0             8298.0   \n",
       "2               11118.0             9141.0   \n",
       "3                1470.0              717.0   \n",
       "4                6758.0             5612.0   \n",
       "\n",
       "   Owner_Black_African_American_alone  \\\n",
       "0                                13.0   \n",
       "1                               239.0   \n",
       "2                               394.0   \n",
       "3                                 6.0   \n",
       "4                               127.0   \n",
       "\n",
       "   Owner_American_Indian_Alaska_Native_alone  Owner_Asian_alone  \\\n",
       "0                                        6.0                0.0   \n",
       "1                                        0.0                0.0   \n",
       "2                                       22.0               26.0   \n",
       "3                                       10.0                0.0   \n",
       "4                                        0.0                0.0   \n",
       "\n",
       "   Owner_Native_Hawaiian_Other_Pacific_Islander_alone  \\\n",
       "0                                                0.0    \n",
       "1                                                0.0    \n",
       "2                                                0.0    \n",
       "3                                                0.0    \n",
       "4                                                0.0    \n",
       "\n",
       "   Owner_Some_other_race_alone  Owner_Two_or_more_races  \\\n",
       "0                        623.0                     37.0   \n",
       "1                        238.0                    753.0   \n",
       "2                       1381.0                    154.0   \n",
       "3                        716.0                     21.0   \n",
       "4                        458.0                    561.0   \n",
       "\n",
       "   Owner_White_no_Hispanic_or_Latino  Owner_Hispanic_Latino  ...  \\\n",
       "0                                0.0                 3283.0  ...   \n",
       "1                              553.0                 8975.0  ...   \n",
       "2                               86.0                10998.0  ...   \n",
       "3                                4.0                 1466.0  ...   \n",
       "4                              244.0                 6493.0  ...   \n",
       "\n",
       "   Black_African_American  American_Indian_Alaska_Native  Asian  \\\n",
       "0                    27.0                            6.0    0.0   \n",
       "1                   341.0                           12.0    0.0   \n",
       "2                   758.0                           42.0   47.0   \n",
       "3                     6.0                           10.0    0.0   \n",
       "4                   173.0                            0.0    0.0   \n",
       "\n",
       "   Native_Hawaiian_Other_Pacific_Islander  Other_Race  Two_More_Races  \\\n",
       "0                                     0.0      1233.0            63.0   \n",
       "1                                     0.0       375.0          1124.0   \n",
       "2                                     0.0      2710.0           232.0   \n",
       "3                                     0.0       963.0            29.0   \n",
       "4                                     0.0       643.0           744.0   \n",
       "\n",
       "   Count_Inds_Income_Past_12_Mos_<_Pov_Level  state  Zip_code  year  \n",
       "0                                    10552.0   72.0       601  2019  \n",
       "1                                    18653.0   72.0       602  2019  \n",
       "2                                    23691.0   72.0       603  2019  \n",
       "3                                     4185.0   72.0       606  2019  \n",
       "4                                    12204.0   72.0       610  2019  \n",
       "\n",
       "[5 rows x 27 columns]"
      ]
     },
     "execution_count": 3,
     "metadata": {},
     "output_type": "execute_result"
    }
   ],
   "source": [
    "# Create a file path\n",
    "census_data = pd.read_csv(\"../Resources/census_data_sh_2019_2022.csv\")\n",
    "\n",
    "# Read in the data. \n",
    "census_data.head()"
   ]
  },
  {
   "cell_type": "code",
   "execution_count": 4,
   "id": "e777fa9d-f209-41ad-a1f1-17da0cbc0f3c",
   "metadata": {},
   "outputs": [
    {
     "name": "stdout",
     "output_type": "stream",
     "text": [
      "Percent White Homeowners in 2019: 82.85954851641586%\n"
     ]
    }
   ],
   "source": [
    "# Check the total owner-occupied units\n",
    "total_owner_occupied_units = census_data[census_data['year'] == 2019]['Owner_Occupied_Units'].sum()\n",
    "\n",
    "# Check the number of white homeowners\n",
    "white_homeowners = census_data[census_data['year'] == 2019]['Owner_White_alone'].sum()\n",
    "\n",
    "# Calculate the percentage\n",
    "percent_white_homeowners_2019 = (white_homeowners / total_owner_occupied_units) * 100\n",
    "print(f\"Percent White Homeowners in 2019: {percent_white_homeowners_2019}%\")\n"
   ]
  },
  {
   "cell_type": "code",
   "execution_count": 3,
   "id": "3c90d7e5-7c30-4c25-8f30-38993d5d241a",
   "metadata": {},
   "outputs": [
    {
     "data": {
      "text/plain": [
       "year\n",
       "2019    73.357364\n",
       "2020    73.775526\n",
       "2021    74.226629\n",
       "2022    74.465813\n",
       "Name: owner_occupancy_rate, dtype: float64"
      ]
     },
     "execution_count": 3,
     "metadata": {},
     "output_type": "execute_result"
    }
   ],
   "source": [
    "# Householder race and ownership over time\n",
    "# Compare trends over time: \n",
    "# Calculate owner-occupancy rate\n",
    "census_data['owner_occupancy_rate'] = (census_data['Owner_Occupied_Units'] / census_data['Total_Occupied_Units']) * 100\n",
    "\n",
    "# Group by year and calculate the mean owner-occupancy rate for each year\n",
    "owner_occupancy_by_year = census_data.groupby('year')['owner_occupancy_rate'].mean()\n",
    "owner_occupancy_by_year\n"
   ]
  },
  {
   "cell_type": "code",
   "execution_count": 4,
   "id": "fff6687c-15cd-478a-a64f-0569f618c7c9",
   "metadata": {},
   "outputs": [
    {
     "data": {
      "text/plain": [
       "year\n",
       "2019    87.699679\n",
       "2020    86.637880\n",
       "2021    85.557543\n",
       "2022    84.310066\n",
       "Name: percent_white_homeowners, dtype: float64"
      ]
     },
     "execution_count": 4,
     "metadata": {},
     "output_type": "execute_result"
    }
   ],
   "source": [
    "# Calculate the percentage of White householders who are homeowners\n",
    "census_data['percent_white_homeowners'] = (census_data['Owner_White_alone'] / census_data['Owner_Occupied_Units']) * 100\n",
    "\n",
    "# Group by year and calculate the mean percentage for each year\n",
    "percent_white_homeowners_by_year = census_data.groupby('year')['percent_white_homeowners'].mean()\n",
    "percent_white_homeowners_by_year\n"
   ]
  },
  {
   "cell_type": "code",
   "execution_count": 5,
   "id": "75690a19-6e06-4476-8190-a6726ccf6568",
   "metadata": {},
   "outputs": [
    {
     "data": {
      "text/plain": [
       "year\n",
       "2019    5.904432\n",
       "2020    5.831772\n",
       "2021    5.759192\n",
       "2022    5.757761\n",
       "Name: percent_black_homeowners, dtype: float64"
      ]
     },
     "execution_count": 5,
     "metadata": {},
     "output_type": "execute_result"
    }
   ],
   "source": [
    "# Calculate the percentage of black householders who are homeowners\n",
    "census_data['percent_black_homeowners'] = (census_data['Owner_Black_African_American_alone'] / census_data['Owner_Occupied_Units']) * 100\n",
    "\n",
    "# Group by year and calculate the mean percentage for each year\n",
    "percent_black_homeowners_by_year = census_data.groupby('year')['percent_black_homeowners'].mean()\n",
    "percent_black_homeowners_by_year\n"
   ]
  },
  {
   "cell_type": "code",
   "execution_count": 6,
   "id": "a883b6fd-e177-439f-8b2b-8aac287cf499",
   "metadata": {},
   "outputs": [
    {
     "data": {
      "text/plain": [
       "year\n",
       "2019    1.905514\n",
       "2020    1.983701\n",
       "2021    2.017108\n",
       "2022    2.071310\n",
       "Name: percent_Asian_homeowners, dtype: float64"
      ]
     },
     "execution_count": 6,
     "metadata": {},
     "output_type": "execute_result"
    }
   ],
   "source": [
    "# Calculate the percentage of Am Indian Alaskan Native householders who are homeowners\n",
    "census_data['percent_Asian_homeowners'] = (census_data['Owner_Asian_alone'] / census_data['Owner_Occupied_Units']) * 100\n",
    "\n",
    "# Group by year and calculate the mean percentage for each year\n",
    "percent_Asian_homeowners_by_year = census_data.groupby('year')['percent_Asian_homeowners'].mean()\n",
    "percent_Asian_homeowners_by_year"
   ]
  },
  {
   "cell_type": "code",
   "execution_count": 7,
   "id": "f7aa630b-ea79-4d14-b836-4f3aa283da4c",
   "metadata": {},
   "outputs": [
    {
     "data": {
      "text/plain": [
       "year\n",
       "2019    0.061568\n",
       "2020    0.064743\n",
       "2021    0.069540\n",
       "2022    0.071647\n",
       "Name: percent_Hawaiian_homeowners, dtype: float64"
      ]
     },
     "execution_count": 7,
     "metadata": {},
     "output_type": "execute_result"
    }
   ],
   "source": [
    "# Calculate the percentage of Am Indian Alaskan Native householders who are homeowners\n",
    "census_data['percent_Hawaiian_homeowners'] = (census_data['Owner_Native_Hawaiian_Other_Pacific_Islander_alone'] / census_data['Owner_Occupied_Units']) * 100\n",
    "\n",
    "# Group by year and calculate the mean percentage for each year\n",
    "percent_Hawaiian_homeowners_by_year = census_data.groupby('year')['percent_Hawaiian_homeowners'].mean()\n",
    "percent_Hawaiian_homeowners_by_year"
   ]
  },
  {
   "cell_type": "code",
   "execution_count": 8,
   "id": "daba2f8f-7519-46b6-99b7-7e57b6259277",
   "metadata": {},
   "outputs": [
    {
     "data": {
      "text/plain": [
       "year\n",
       "2019    1.592303\n",
       "2020    1.584339\n",
       "2021    1.562799\n",
       "2022    1.568337\n",
       "Name: percent_Am_Indian_homeowners, dtype: float64"
      ]
     },
     "execution_count": 8,
     "metadata": {},
     "output_type": "execute_result"
    }
   ],
   "source": [
    "# Calculate the percentage of Am Indian Alaskan Native householders who are homeowners\n",
    "census_data['percent_Am_Indian_homeowners'] = (census_data['Owner_American_Indian_Alaska_Native_alone'] / census_data['Owner_Occupied_Units']) * 100\n",
    "\n",
    "# Group by year and calculate the mean percentage for each year\n",
    "percent_Am_Indian_homeowners_by_year = census_data.groupby('year')['percent_Am_Indian_homeowners'].mean()\n",
    "percent_Am_Indian_homeowners_by_year"
   ]
  },
  {
   "cell_type": "code",
   "execution_count": 9,
   "id": "40612ba2-2f74-4df1-8cf3-dcbc8a8aa551",
   "metadata": {},
   "outputs": [
    {
     "data": {
      "text/plain": [
       "year\n",
       "2019    1.431407\n",
       "2020    1.589310\n",
       "2021    1.797092\n",
       "2022    2.021079\n",
       "Name: percent_Some_other_race_alone, dtype: float64"
      ]
     },
     "execution_count": 9,
     "metadata": {},
     "output_type": "execute_result"
    }
   ],
   "source": [
    "# Calculate the percentage of Am Indian Alaskan Native householders who are homeowners\n",
    "census_data['percent_Some_other_race_alone'] = (census_data['Owner_Some_other_race_alone'] / census_data['Owner_Occupied_Units']) * 100\n",
    "\n",
    "# Group by year and calculate the mean percentage for each year\n",
    "percent_Other_homeowners_by_year = census_data.groupby('year')['percent_Some_other_race_alone'].mean()\n",
    "percent_Other_homeowners_by_year"
   ]
  },
  {
   "cell_type": "code",
   "execution_count": 10,
   "id": "b6f45cbe-79d3-47b4-919f-f3ae54218280",
   "metadata": {},
   "outputs": [
    {
     "data": {
      "text/plain": [
       "year\n",
       "2019    1.405097\n",
       "2020    2.308255\n",
       "2021    3.236726\n",
       "2022    4.199799\n",
       "Name: percent_Two_or_more_homeowners, dtype: float64"
      ]
     },
     "execution_count": 10,
     "metadata": {},
     "output_type": "execute_result"
    }
   ],
   "source": [
    "# Calculate the percentage of Am Indian Alaskan Native householders who are homeowners\n",
    "census_data['percent_Two_or_more_homeowners'] = (census_data['Owner_Two_or_more_races'] / census_data['Owner_Occupied_Units']) * 100\n",
    "\n",
    "# Group by year and calculate the mean percentage for each year\n",
    "percent_Two_or_more_homeowners_by_year = census_data.groupby('year')['percent_Two_or_more_homeowners'].mean()\n",
    "percent_Two_or_more_homeowners_by_year"
   ]
  },
  {
   "cell_type": "code",
   "execution_count": 11,
   "id": "b300add7-8e89-4250-94b7-8bbdd0ef79e5",
   "metadata": {},
   "outputs": [
    {
     "data": {
      "text/plain": [
       "year\n",
       "2019    82.981059\n",
       "2020    82.405336\n",
       "2021    81.906558\n",
       "2022    81.261772\n",
       "Name: percent_White_no_Hisp_homeowners, dtype: float64"
      ]
     },
     "execution_count": 11,
     "metadata": {},
     "output_type": "execute_result"
    }
   ],
   "source": [
    "# Calculate the percentage of Am Indian Alaskan Native householders who are homeowners\n",
    "census_data['percent_White_no_Hisp_homeowners'] = (census_data['Owner_White_no_Hispanic_or_Latino'] / census_data['Owner_Occupied_Units']) * 100\n",
    "\n",
    "# Group by year and calculate the mean percentage for each year\n",
    "percent_White_no_Hisp_homeowners_by_year = census_data.groupby('year')['percent_White_no_Hisp_homeowners'].mean()\n",
    "percent_White_no_Hisp_homeowners_by_year"
   ]
  },
  {
   "cell_type": "code",
   "execution_count": 12,
   "id": "4194bba8-da6d-4eb5-aae1-63d13385d11b",
   "metadata": {},
   "outputs": [
    {
     "data": {
      "text/plain": [
       "year\n",
       "2019    6.521556\n",
       "2020    6.725891\n",
       "2021    6.902655\n",
       "2022    7.105219\n",
       "Name: percent_Hisp_homeowners, dtype: float64"
      ]
     },
     "execution_count": 12,
     "metadata": {},
     "output_type": "execute_result"
    }
   ],
   "source": [
    "# Calculate the percentage of Am Indian Alaskan Native householders who are homeowners\n",
    "census_data['percent_Hisp_homeowners'] = (census_data['Owner_Hispanic_Latino'] / census_data['Owner_Occupied_Units']) * 100\n",
    "\n",
    "# Group by year and calculate the mean percentage for each year\n",
    "percent_Hisp_homeowners_by_year = census_data.groupby('year')['percent_Hisp_homeowners'].mean()\n",
    "percent_Hisp_homeowners_by_year"
   ]
  },
  {
   "cell_type": "code",
   "execution_count": 13,
   "id": "984780c2-5916-4c81-91e2-7929342c6b94",
   "metadata": {},
   "outputs": [],
   "source": [
    "# Assuming you have the correct Series names and they are properly aligned by 'year' index\n",
    "summary_df = pd.DataFrame({\n",
    "    'Percent White Homeowners': percent_white_homeowners_by_year,\n",
    "    'Percent Black Homeowners': percent_black_homeowners_by_year,\n",
    "    'Percent Am Ind/Al Nat Homeowners': percent_Am_Indian_homeowners_by_year,\n",
    "    'Percent Asian Homeowners': percent_Asian_homeowners_by_year,\n",
    "    'Percent Hawaiian/Pac Isl Homeowners': percent_Hawaiian_homeowners_by_year,\n",
    "    'Percent Other Homeowners': percent_Other_homeowners_by_year,\n",
    "    'Percent Two or More Homeowners': percent_Two_or_more_homeowners_by_year,\n",
    "    'Percent White/Non Hispanic Homeowners': percent_White_no_Hisp_homeowners_by_year,\n",
    "    'Percent Hispanic Homeowners': percent_Hisp_homeowners_by_year\n",
    "})\n",
    "\n",
    "# Optional: Reset index if you want 'Year' as a column for easier plotting\n",
    "summary_df.reset_index(inplace=True)\n",
    "summary_df.rename(columns={'index': 'year'}, inplace=True)\n"
   ]
  },
  {
   "cell_type": "code",
   "execution_count": 14,
   "id": "5bff4d89-6891-4f0f-8e5b-78b76adf3891",
   "metadata": {},
   "outputs": [
    {
     "data": {
      "image/png": "[encoded data removed]",
      "text/plain": [
       "<Figure size 1000x600 with 1 Axes>"
      ]
     },
     "metadata": {},
     "output_type": "display_data"
    }
   ],
   "source": [
    "# Assuming 'summary_df' is already correctly formatted and 'year' is a column\n",
    "plt.figure(figsize=(10, 6))  # Set the size of the plot\n",
    "\n",
    "# Plot each racial group's homeownership trend\n",
    "plt.plot(summary_df['year'], summary_df['Percent White Homeowners'], label='White Homeowners', marker='o')\n",
    "plt.plot(summary_df['year'], summary_df['Percent Black Homeowners'], label='Black Homeowners', marker='o')\n",
    "plt.plot(summary_df['year'], summary_df['Percent Am Ind/Al Nat Homeowners'], label='Am Ind/Al Nat Homeowners', marker='o')\n",
    "plt.plot(summary_df['year'], summary_df['Percent Asian Homeowners'], label='Asian Homeowners', marker='o')\n",
    "plt.plot(summary_df['year'], summary_df['Percent Hawaiian/Pac Isl Homeowners'], label='Hawaiian/Pac Isl Homeowners', marker='o')\n",
    "plt.plot(summary_df['year'], summary_df['Percent Other Homeowners'], label='Other Homeowners', marker='o')\n",
    "plt.plot(summary_df['year'], summary_df['Percent Two or More Homeowners'], label='Two or More Homeowners', marker='o')\n",
    "plt.plot(summary_df['year'], summary_df['Percent White/Non Hispanic Homeowners'], label='White/Non Hispanic Homeowners', marker='o')\n",
    "plt.plot(summary_df['year'], summary_df['Percent Hispanic Homeowners'], label='Hispanic Homeowners', marker='o')\n",
    "\n",
    "# Set x-axis ticks\n",
    "years = summary_df['year'].unique()  # Extract years from the DataFrame\n",
    "plt.xticks(years, labels=years)  # Set x-axis ticks to show only the years in your data\n",
    "\n",
    "# Adding titles and labels\n",
    "plt.title('Homeownership Rates by Race Over Time')  # Title of the plot\n",
    "plt.xlabel('Year')  # X-axis label\n",
    "plt.ylabel('Percentage (%)')  # Y-axis label\n",
    "\n",
    "# Display a legend to identify the lines\n",
    "plt.legend()\n",
    "\n",
    "# Optionally, display a grid\n",
    "plt.grid(True)\n",
    "\n",
    "\n",
    "plt.savefig('homeowner_race_line_chart19_22.png', format='png', dpi=300)\n",
    "\n",
    "# Show the plot\n",
    "plt.show()\n"
   ]
  },
  {
   "cell_type": "code",
   "execution_count": null,
   "id": "3e88a065-3f2d-444b-9020-86a483b9d1e3",
   "metadata": {},
   "outputs": [],
   "source": []
  }
 ],
 "metadata": {
  "kernelspec": {
   "display_name": "Python 3 (ipykernel)",
   "language": "python",
   "name": "python3"
  },
  "language_info": {
   "codemirror_mode": {
    "name": "ipython",
    "version": 3
   },
   "file_extension": ".py",
   "mimetype": "text/x-python",
   "name": "python",
   "nbconvert_exporter": "python",
   "pygments_lexer": "ipython3",
   "version": "3.11.7"
  }
 },
 "nbformat": 4,
 "nbformat_minor": 5
}
